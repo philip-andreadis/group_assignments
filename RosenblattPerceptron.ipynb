{
 "cells": [
  {
   "cell_type": "code",
   "execution_count": 2,
   "metadata": {},
   "outputs": [],
   "source": [
    "import numpy as np\n",
    "import random\n",
    "import matplotlib.pyplot as plt\n",
    "from scipy.special import comb "
   ]
  },
  {
   "cell_type": "markdown",
   "metadata": {},
   "source": [
    "## Initialize Dataset \\& Weights"
   ]
  },
  {
   "cell_type": "code",
   "execution_count": 3,
   "metadata": {},
   "outputs": [],
   "source": [
    "def init_(p, n):\n",
    "\n",
    "    # Generate dataset with samples that follow Gaussian distribution\n",
    "    mu = np.zeros(p) \n",
    "    sigma = np.ones(p)\n",
    "    # No correlation between features\n",
    "    cov = np.eye(p)\n",
    "    x = np.random.multivariate_normal(mu, cov, n).T\n",
    "\n",
    "    # For the P points, randomly assign a label (either +1 or -1) with equal probability\n",
    "    s = random.choices( [1, -1], weights=[1/2, 1/2], k=p )\n",
    "    s = np.array(s)\n",
    "\n",
    "    # Initialize weights for a single neuron and each feature\n",
    "    w = np.zeros(n)\n",
    "\n",
    "    return x, s, w"
   ]
  },
  {
   "cell_type": "markdown",
   "metadata": {},
   "source": [
    "## Plot the probability of being linearly separable "
   ]
  },
  {
   "cell_type": "code",
   "execution_count": 4,
   "metadata": {},
   "outputs": [],
   "source": [
    "def successfulPlot(A, prob):\n",
    "    \n",
    "    \"\"\" Plots the fraction Pls = C(P, N)/2^P of linearly separable functions versus α = P/N\n",
    "    \n",
    "    :param A: The ratio of P to N\n",
    "    :param prob: The probability of being linearly separable \n",
    "\n",
    "    \"\"\"\n",
    "    \n",
    "    plt.suptitle(\"The fraction Pls = C(P, N)/2^P of linearly separable functions versus α = P/N\", fontsize=14,\\\n",
    "                 fontweight=\"bold\")\n",
    "    plt.xlabel(\"a = P/N\")\n",
    "    plt.ylabel(\"C(P,N) / 2^P\")\n",
    "    plt.plot(A, prob)"
   ]
  },
  {
   "cell_type": "markdown",
   "metadata": {},
   "source": [
    "## Rosenblatt Perceptron Algorithm Implementation"
   ]
  },
  {
   "cell_type": "code",
   "execution_count": 5,
   "metadata": {},
   "outputs": [],
   "source": [
    "def rosenblattPerceptron(x, s, w, P): \n",
    "    for i in range(epochs):\n",
    "\n",
    "        E = np.array([])\n",
    "\n",
    "        for j in range(P):\n",
    "            # Predict the labels\n",
    "            y_pred = np.sign(x[j].dot(w.T))\n",
    "            E = np.append(E, x[j].dot(w.T)*s[j])\n",
    "\n",
    "            # Update weights in case predicted value != true value\n",
    "            if (E[j] <= 0):\n",
    "                w = w + (x[j] * s[j])/N\n",
    "\n",
    "        # Stop iterating when all predicted values equal true values\n",
    "        if (np.all(E > 0)):\n",
    "            print(\"All instances are predicted correctly\")\n",
    "            break\n",
    "\n",
    "    print(\"The accuracy of the model for N =\", +N, \"and P =\", +P, \"equals:\", +np.mean(E > 0), \"\\n\")"
   ]
  },
  {
   "cell_type": "markdown",
   "metadata": {},
   "source": [
    "## The Capacity of a Hyperplane"
   ]
  },
  {
   "cell_type": "code",
   "execution_count": 6,
   "metadata": {},
   "outputs": [
    {
     "name": "stdout",
     "output_type": "stream",
     "text": [
      "All instances are predicted correctly\n",
      "The accuracy of the model for N = 40 and P = 30 equals: 1.0 \n",
      "\n",
      "All instances are predicted correctly\n",
      "The accuracy of the model for N = 40 and P = 40 equals: 1.0 \n",
      "\n",
      "All instances are predicted correctly\n",
      "The accuracy of the model for N = 40 and P = 50 equals: 1.0 \n",
      "\n",
      "All instances are predicted correctly\n",
      "The accuracy of the model for N = 40 and P = 60 equals: 1.0 \n",
      "\n",
      "The accuracy of the model for N = 40 and P = 70 equals: 0.8285714285714286 \n",
      "\n",
      "The accuracy of the model for N = 40 and P = 80 equals: 0.8375 \n",
      "\n",
      "The accuracy of the model for N = 40 and P = 90 equals: 0.7444444444444445 \n",
      "\n",
      "The accuracy of the model for N = 40 and P = 100 equals: 0.61 \n",
      "\n",
      "The accuracy of the model for N = 40 and P = 110 equals: 0.5454545454545454 \n",
      "\n",
      "The accuracy of the model for N = 40 and P = 120 equals: 0.45 \n",
      "\n"
     ]
    }
   ],
   "source": [
    "# Number of features (columns)\n",
    "N = 40\n",
    "# The different ratios of P to N\n",
    "A = np.arange(0.75, 3.25, 0.25)\n",
    "# Initialize number of epochs\n",
    "epochs = 500\n",
    "prob = []\n",
    "\n",
    "for a in A:\n",
    "    # Number of training samples (rows)\n",
    "    P = int(a*N)    \n",
    "    # Initialize training samples\n",
    "    x, s, w = init_(P, N)\n",
    "    # Run Rosenblatt-Perceptron algorithm\n",
    "    rosenblattPerceptron(x, s, w, P)\n",
    "        \n",
    "    if ( P<=N ):\n",
    "        prob.append(1)\n",
    "    else:\n",
    "        q = []\n",
    "        for i in range(N):\n",
    "            q.append( comb(P-1, i) )\n",
    "        prob.append( 2**(1-P) * np.sum(q) )"
   ]
  },
  {
   "cell_type": "code",
   "execution_count": 7,
   "metadata": {},
   "outputs": [
    {
     "data": {
      "image/png": "[encoded data removed]",
      "text/plain": [
       "<Figure size 640x400 with 1 Axes>"
      ]
     },
     "metadata": {
      "needs_background": "light"
     },
     "output_type": "display_data"
    }
   ],
   "source": [
    "# Plot function\n",
    "plt.figure(figsize=(8, 5), dpi=80)\n",
    "successfulPlot(A, prob)\n",
    "plt.show()"
   ]
  },
  {
   "cell_type": "markdown",
   "metadata": {},
   "source": [
    "### Extension-1\n",
    "\n",
    "Observe the behavior of $Q_{l.s.}(α)$ for different system sizes $N$. Does it approach a step function with increasing $N$, as predicted by the theory? To this end, repeat the above experiments\n",
    "for several larger values of $N$. For this study, you might want to consider a limited range of\n",
    "$α-$values, e.g., $1.5 \\leq α\\leq 2.5$. and perhaps consider a smaller increment of $α$ in this interval."
   ]
  },
  {
   "cell_type": "code",
   "execution_count": 9,
   "metadata": {},
   "outputs": [
    {
     "name": "stdout",
     "output_type": "stream",
     "text": [
      "All instances are predicted correctly\n",
      "The accuracy of the model for N = 5 and P = 5 equals: 1.0 \n",
      "\n",
      "All instances are predicted correctly\n",
      "The accuracy of the model for N = 5 and P = 6 equals: 1.0 \n",
      "\n",
      "All instances are predicted correctly\n",
      "The accuracy of the model for N = 5 and P = 7 equals: 1.0 \n",
      "\n",
      "The accuracy of the model for N = 5 and P = 8 equals: 0.375 \n",
      "\n",
      "All instances are predicted correctly\n",
      "The accuracy of the model for N = 5 and P = 10 equals: 1.0 \n",
      "\n",
      "The accuracy of the model for N = 5 and P = 11 equals: 0.36363636363636365 \n",
      "\n",
      "All instances are predicted correctly\n",
      "The accuracy of the model for N = 5 and P = 12 equals: 1.0 \n",
      "\n",
      "All instances are predicted correctly\n",
      "The accuracy of the model for N = 5 and P = 13 equals: 1.0 \n",
      "\n",
      "All instances are predicted correctly\n",
      "The accuracy of the model for N = 20 and P = 20 equals: 1.0 \n",
      "\n",
      "All instances are predicted correctly\n",
      "The accuracy of the model for N = 20 and P = 25 equals: 1.0 \n",
      "\n",
      "All instances are predicted correctly\n",
      "The accuracy of the model for N = 20 and P = 30 equals: 1.0 \n",
      "\n",
      "All instances are predicted correctly\n",
      "The accuracy of the model for N = 20 and P = 35 equals: 1.0 \n",
      "\n",
      "All instances are predicted correctly\n",
      "The accuracy of the model for N = 20 and P = 40 equals: 1.0 \n",
      "\n",
      "The accuracy of the model for N = 20 and P = 45 equals: 0.8444444444444444 \n",
      "\n",
      "The accuracy of the model for N = 20 and P = 50 equals: 0.74 \n",
      "\n",
      "The accuracy of the model for N = 20 and P = 55 equals: 0.6 \n",
      "\n",
      "All instances are predicted correctly\n",
      "The accuracy of the model for N = 40 and P = 40 equals: 1.0 \n",
      "\n",
      "All instances are predicted correctly\n",
      "The accuracy of the model for N = 40 and P = 50 equals: 1.0 \n",
      "\n",
      "All instances are predicted correctly\n",
      "The accuracy of the model for N = 40 and P = 60 equals: 1.0 \n",
      "\n",
      "All instances are predicted correctly\n",
      "The accuracy of the model for N = 40 and P = 70 equals: 1.0 \n",
      "\n",
      "The accuracy of the model for N = 40 and P = 80 equals: 0.75 \n",
      "\n",
      "The accuracy of the model for N = 40 and P = 90 equals: 0.7222222222222222 \n",
      "\n",
      "The accuracy of the model for N = 40 and P = 100 equals: 0.58 \n",
      "\n",
      "The accuracy of the model for N = 40 and P = 110 equals: 0.6 \n",
      "\n",
      "All instances are predicted correctly\n",
      "The accuracy of the model for N = 100 and P = 100 equals: 1.0 \n",
      "\n",
      "All instances are predicted correctly\n",
      "The accuracy of the model for N = 100 and P = 125 equals: 1.0 \n",
      "\n",
      "All instances are predicted correctly\n",
      "The accuracy of the model for N = 100 and P = 150 equals: 1.0 \n",
      "\n",
      "All instances are predicted correctly\n",
      "The accuracy of the model for N = 100 and P = 175 equals: 1.0 \n",
      "\n",
      "The accuracy of the model for N = 100 and P = 200 equals: 0.715 \n",
      "\n",
      "The accuracy of the model for N = 100 and P = 225 equals: 0.72 \n",
      "\n",
      "The accuracy of the model for N = 100 and P = 250 equals: 0.608 \n",
      "\n",
      "The accuracy of the model for N = 100 and P = 275 equals: 0.6254545454545455 \n",
      "\n",
      "All instances are predicted correctly\n",
      "The accuracy of the model for N = 200 and P = 200 equals: 1.0 \n",
      "\n",
      "All instances are predicted correctly\n",
      "The accuracy of the model for N = 200 and P = 250 equals: 1.0 \n",
      "\n",
      "All instances are predicted correctly\n",
      "The accuracy of the model for N = 200 and P = 300 equals: 1.0 \n",
      "\n",
      "All instances are predicted correctly\n",
      "The accuracy of the model for N = 200 and P = 350 equals: 1.0 \n",
      "\n",
      "The accuracy of the model for N = 200 and P = 400 equals: 0.67 \n",
      "\n",
      "The accuracy of the model for N = 200 and P = 450 equals: 0.7044444444444444 \n",
      "\n",
      "The accuracy of the model for N = 200 and P = 500 equals: 0.676 \n",
      "\n",
      "The accuracy of the model for N = 200 and P = 550 equals: 0.6163636363636363 \n",
      "\n"
     ]
    },
    {
     "data": {
      "image/png": "[encoded data removed]",
      "text/plain": [
       "<Figure size 432x288 with 1 Axes>"
      ]
     },
     "metadata": {
      "needs_background": "light"
     },
     "output_type": "display_data"
    }
   ],
   "source": [
    "# Number of features (columns)\n",
    "N = [5, 20, 40, 100, 200]\n",
    "# The different ratios of P to N\n",
    "A = np.arange(1.0, 3.0, 0.25)\n",
    "# Initialize number of epochs\n",
    "epochs = 500\n",
    "\n",
    "\n",
    "for N in N:\n",
    "    prob = []\n",
    "    for a in A:\n",
    "        # Number of training samples (rows)\n",
    "        P = int(a*N)    \n",
    "        # Initialize training samples\n",
    "        x, s, w = init_(P, N)\n",
    "        # Run Rosenblatt-Perceptron algorithm\n",
    "        rosenblattPerceptron(x, s, w, P)\n",
    "\n",
    "        if ( P<=N ):\n",
    "            prob.append(1)\n",
    "        else:\n",
    "            q = []\n",
    "            for i in range(N):\n",
    "                q.append( comb(P-1, i) )\n",
    "            prob.append( 2**(1-P) * np.sum(q) )\n",
    "            \n",
    "    successfulPlot(A, prob)\n",
    "\n",
    "#plt.legend(loc='best')\n",
    "plt.show()"
   ]
  }
 ],
 "metadata": {
  "kernelspec": {
   "display_name": "Python 3",
   "language": "python",
   "name": "python3"
  },
  "language_info": {
   "codemirror_mode": {
    "name": "ipython",
    "version": 3
   },
   "file_extension": ".py",
   "mimetype": "text/x-python",
   "name": "python",
   "nbconvert_exporter": "python",
   "pygments_lexer": "ipython3",
   "version": "3.7.6"
  }
 },
 "nbformat": 4,
 "nbformat_minor": 4
}
