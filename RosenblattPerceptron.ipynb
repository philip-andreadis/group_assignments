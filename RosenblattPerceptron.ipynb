{
 "cells": [
  {
   "cell_type": "code",
   "execution_count": 21,
   "metadata": {},
   "outputs": [],
   "source": [
    "import numpy as np\n",
    "import random"
   ]
  },
  {
   "cell_type": "markdown",
   "metadata": {},
   "source": [
    "# Initialize Dataset \\& Weights"
   ]
  },
  {
   "cell_type": "code",
   "execution_count": 115,
   "metadata": {},
   "outputs": [],
   "source": [
    "# Number of training instances (rows)\n",
    "P = 120\n",
    "# Number of features (columns)\n",
    "N = 40\n",
    "\n",
    "# Generate dataset with samples that follow Gaussian distribution\n",
    "mu = np.zeros(P) \n",
    "sigma = np.ones(P)\n",
    "cov = np.eye(P)\n",
    "x = np.random.multivariate_normal(mu, cov, N).T\n",
    "\n",
    "# For the P points, randomly assign a label (either +1 or -1) with equal probability\n",
    "s = random.choices( [1, -1], weights=[1/2, 1/2], k=P )\n",
    "s = np.array(s)\n",
    "\n",
    "# Initialize weights for a single neuron and each feature\n",
    "w = np.zeros(N)\n",
    "\n",
    "# Initialize number of epochs\n",
    "epochs = 500"
   ]
  },
  {
   "cell_type": "markdown",
   "metadata": {},
   "source": [
    "# Rosenblatt Perceptron Algorithm Implementation"
   ]
  },
  {
   "cell_type": "code",
   "execution_count": 117,
   "metadata": {},
   "outputs": [
    {
     "name": "stdout",
     "output_type": "stream",
     "text": [
      "The accuracy of the model equals: 0.55\n"
     ]
    }
   ],
   "source": [
    "for i in range(epochs):\n",
    "    \n",
    "    E = np.array([])\n",
    "    \n",
    "    for j in range(P):\n",
    "        # Predict value\n",
    "        y_pred = np.sign(x[j].dot(w.T))\n",
    "        E = np.append(E, np.sign(x[j].dot(w.T)*s[j]))\n",
    "        \n",
    "        # Update weights in case predicted value != true value\n",
    "        if (E[j] <= 0):\n",
    "            w = w + (x[j] * s[j])/N\n",
    "    \n",
    "    # Stop iterating when all predicted values equal true values\n",
    "    if (np.all(E > 0)):\n",
    "        print(\"All instances are predicted correctly\")\n",
    "        break\n",
    "\n",
    "print(\"The accuracy of the model equals:\", +np.mean(E == 1))"
   ]
  }
 ],
 "metadata": {
  "kernelspec": {
   "display_name": "Python 3",
   "language": "python",
   "name": "python3"
  },
  "language_info": {
   "codemirror_mode": {
    "name": "ipython",
    "version": 3
   },
   "file_extension": ".py",
   "mimetype": "text/x-python",
   "name": "python",
   "nbconvert_exporter": "python",
   "pygments_lexer": "ipython3",
   "version": "3.7.6"
  }
 },
 "nbformat": 4,
 "nbformat_minor": 4
}
